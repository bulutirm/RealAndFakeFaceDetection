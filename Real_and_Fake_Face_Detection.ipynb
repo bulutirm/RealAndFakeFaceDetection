{
  "cells": [
    {
      "cell_type": "markdown",
      "metadata": {
        "id": "view-in-github",
        "colab_type": "text"
      },
      "source": [
        "<a href=\"https://colab.research.google.com/github/bulutirm/RealAndFakeFaceDetection/blob/main/Real_and_Fake_Face_Detection.ipynb\" target=\"_parent\"><img src=\"https://colab.research.google.com/assets/colab-badge.svg\" alt=\"Open In Colab\"/></a>"
      ]
    },
    {
      "cell_type": "code",
      "execution_count": 1,
      "metadata": {
        "colab": {
          "base_uri": "https://localhost:8080/"
        },
        "id": "V2m3KJ92gSMq",
        "outputId": "67c52075-cb48-4d9f-dc7c-872f1e3feb74"
      },
      "outputs": [
        {
          "output_type": "stream",
          "name": "stdout",
          "text": [
            "Looking in indexes: https://pypi.org/simple, https://us-python.pkg.dev/colab-wheels/public/simple/\n",
            "Requirement already satisfied: imutils in /usr/local/lib/python3.10/dist-packages (0.5.4)\n"
          ]
        }
      ],
      "source": [
        "pip install imutils"
      ]
    },
    {
      "cell_type": "code",
      "execution_count": 33,
      "metadata": {
        "id": "lnWJQ_KElwgF"
      },
      "outputs": [],
      "source": [
        "import cv2\n",
        "import urllib\n",
        "import itertools\n",
        "import numpy as np\n",
        "import pandas as pd\n",
        "import seaborn as sns\n",
        "import random, os, glob\n",
        "from imutils import paths\n",
        "import matplotlib.pyplot as plt\n",
        "from sklearn.utils import shuffle\n",
        "from sklearn.metrics import confusion_matrix, ConfusionMatrixDisplay\n",
        "from urllib.request import urlopen\n",
        "\n",
        "import warnings\n",
        "warnings.filterwarnings('ignore')\n",
        "\n",
        "import tensorflow as tf\n",
        "from tensorflow.keras.models import Sequential\n",
        "from tensorflow.keras.preprocessing import image\n",
        "from tensorflow.keras.utils import to_categorical\n",
        "from tensorflow.keras.callbacks import ModelCheckpoint, EarlyStopping\n",
        "from tensorflow.keras.layers import Conv2D, Flatten, MaxPooling2D, Dense, Dropout, SpatialDropout2D\n",
        "from tensorflow.keras.preprocessing.image import ImageDataGenerator, img_to_array, load_img, array_to_img"
      ]
    },
    {
      "cell_type": "code",
      "execution_count": 3,
      "metadata": {
        "colab": {
          "base_uri": "https://localhost:8080/"
        },
        "id": "r2YClQwFl8dR",
        "outputId": "7b367810-4f75-400d-b0c0-5a1545bb4f03"
      },
      "outputs": [
        {
          "output_type": "stream",
          "name": "stdout",
          "text": [
            "Mounted at /content/drive\n"
          ]
        }
      ],
      "source": [
        "from google.colab import drive\n",
        "drive.mount('/content/drive')"
      ]
    },
    {
      "cell_type": "code",
      "execution_count": 4,
      "metadata": {
        "id": "nebEcrVYl_22"
      },
      "outputs": [],
      "source": [
        "dir_path = '/content/drive/MyDrive/Real and Fake Detection'"
      ]
    },
    {
      "cell_type": "code",
      "execution_count": 5,
      "metadata": {
        "id": "VfAs2TwVmK8s"
      },
      "outputs": [],
      "source": [
        "target_size = (224, 224)\n",
        "\n",
        "waste_labels = {'training_real' : 0, 'training_fake' : 1}"
      ]
    },
    {
      "cell_type": "code",
      "execution_count": 6,
      "metadata": {
        "id": "nNDbsBVDmVFc"
      },
      "outputs": [],
      "source": [
        "def load_datasets(path):\n",
        "\n",
        "  x = []\n",
        "  labels = []\n",
        "\n",
        "  image_paths = sorted(list(paths.list_images(path)))\n",
        "\n",
        "  for image_path in image_paths:\n",
        "    img = cv2.imread(image_path)\n",
        "    img = cv2.resize(img, target_size)\n",
        "    x.append(img)\n",
        "    label = image_path.split(os.path.sep)[-2]\n",
        "    labels.append(waste_labels[label])\n",
        "\n",
        "  x, labels = shuffle(x, labels, random_state = 42)\n",
        "\n",
        "  print(f\"X boyutu: {np.array(x).shape}\")\n",
        "  print(f\"Label sınıf sayısı: {len(np.unique(labels))} Gözlem sayısı: {len(labels)}\")\n",
        "\n",
        "  return x, labels "
      ]
    },
    {
      "cell_type": "code",
      "execution_count": 7,
      "metadata": {
        "colab": {
          "base_uri": "https://localhost:8080/"
        },
        "id": "mMRxFQd7nEkY",
        "outputId": "6545e088-940c-4520-b6d3-4f04babeddee"
      },
      "outputs": [
        {
          "output_type": "stream",
          "name": "stdout",
          "text": [
            "X boyutu: (2041, 224, 224, 3)\n",
            "Label sınıf sayısı: 2 Gözlem sayısı: 2041\n"
          ]
        }
      ],
      "source": [
        "x, labels = load_datasets(dir_path)"
      ]
    },
    {
      "cell_type": "code",
      "source": [
        "input_shape = (np.array(x[0]).shape[1], np.array(x[0]).shape[1], 3)\n",
        "print(input_shape)"
      ],
      "metadata": {
        "colab": {
          "base_uri": "https://localhost:8080/"
        },
        "id": "8eVtaoPKsOSA",
        "outputId": "037cc919-ad90-4185-ded0-2adf45310c40"
      },
      "execution_count": 8,
      "outputs": [
        {
          "output_type": "stream",
          "name": "stdout",
          "text": [
            "(224, 224, 3)\n"
          ]
        }
      ]
    },
    {
      "cell_type": "code",
      "execution_count": 9,
      "metadata": {
        "id": "szYXTuZLoajf"
      },
      "outputs": [],
      "source": [
        "def visualize_img(image_batch, label_batch):\n",
        "  plt.figure(figsize=(10,10))\n",
        "  for n in range(10):\n",
        "    ax = plt.subplot(5,5,n+1)\n",
        "    plt.imshow(image_batch[n])\n",
        "    plt.title(np.array(list(waste_labels.keys()))[to_categorical(labels, num_classes=2)[n]==1][0].title())\n",
        "    plt.axis('off')"
      ]
    },
    {
      "cell_type": "code",
      "execution_count": 10,
      "metadata": {
        "id": "1QT61GlZogVl"
      },
      "outputs": [],
      "source": [
        "#Train veri seti için bir generator tanımlıyoruz\n",
        "train = ImageDataGenerator(horizontal_flip = True,\n",
        "                           validation_split = 0.2,\n",
        "                           rescale = 1./255,\n",
        "                           shear_range = 0.2,\n",
        "                           zoom_range = 0.2,\n",
        "                           width_shift_range = 0.1,\n",
        "                           height_shift_range = 0.1)\n",
        "\n",
        "#Test veri seti için bir generator tanımlıyoruz.\n",
        "test = ImageDataGenerator(rescale = 1/255,\n",
        "                          validation_split = 0.1)"
      ]
    },
    {
      "cell_type": "code",
      "execution_count": 11,
      "metadata": {
        "colab": {
          "base_uri": "https://localhost:8080/"
        },
        "id": "n7ZWdllcbboT",
        "outputId": "3a6b77d0-ec87-4fff-c1cb-ef1e353f602a"
      },
      "outputs": [
        {
          "output_type": "stream",
          "name": "stdout",
          "text": [
            "Found 1633 images belonging to 2 classes.\n",
            "Found 204 images belonging to 2 classes.\n"
          ]
        }
      ],
      "source": [
        "train_generator = train.flow_from_directory(directory = dir_path,\n",
        "                                             target_size = (target_size),\n",
        "                                             class_mode = 'categorical',\n",
        "                                             subset = 'training')\n",
        "\n",
        "test_generator = test.flow_from_directory(directory = dir_path,\n",
        "                                          target_size = (target_size),\n",
        "                                          batch_size = 251,\n",
        "                                          class_mode = 'categorical',\n",
        "                                          subset = 'validation')"
      ]
    },
    {
      "cell_type": "code",
      "execution_count": 12,
      "metadata": {
        "id": "o4U8cOz6eJPw"
      },
      "outputs": [],
      "source": [
        "#modelleme\n",
        "model = Sequential()\n",
        "model.add(Conv2D(filters=32, kernel_size=(3,3), padding='same', \n",
        "                 input_shape = (input_shape), activation='relu'))\n",
        "model.add(MaxPooling2D(pool_size=2, strides=(2,2)))\n",
        "\n",
        "model.add(Conv2D(filters=64, kernel_size=(3,3), padding='same',\n",
        "                 activation='relu'))\n",
        "model.add(MaxPooling2D(pool_size=2, strides=(2,2)))\n",
        "\n",
        "model.add(Conv2D(filters=32, kernel_size=(3,3), padding='same',\n",
        "                 activation='relu'))\n",
        "model.add(MaxPooling2D(pool_size=2, strides=(2,2)))\n",
        "\n",
        "model.add(Flatten())\n",
        "\n",
        "model.add(Dense(units=64, activation='relu'))\n",
        "model.add(Dropout(rate=0.2))\n",
        "\n",
        "model.add(Dense(units=32, activation='relu'))\n",
        "model.add(Dropout(rate=0.2))\n",
        "\n",
        "model.add(Dense(units=2, activation='softmax'))"
      ]
    },
    {
      "cell_type": "code",
      "execution_count": 13,
      "metadata": {
        "colab": {
          "base_uri": "https://localhost:8080/"
        },
        "id": "xqRB5d7YeJpB",
        "outputId": "5f7e1287-8c0d-4f80-d113-b0d3d91d58bd"
      },
      "outputs": [
        {
          "output_type": "stream",
          "name": "stdout",
          "text": [
            "Model: \"sequential\"\n",
            "_________________________________________________________________\n",
            " Layer (type)                Output Shape              Param #   \n",
            "=================================================================\n",
            " conv2d (Conv2D)             (None, 224, 224, 32)      896       \n",
            "                                                                 \n",
            " max_pooling2d (MaxPooling2D  (None, 112, 112, 32)     0         \n",
            " )                                                               \n",
            "                                                                 \n",
            " conv2d_1 (Conv2D)           (None, 112, 112, 64)      18496     \n",
            "                                                                 \n",
            " max_pooling2d_1 (MaxPooling  (None, 56, 56, 64)       0         \n",
            " 2D)                                                             \n",
            "                                                                 \n",
            " conv2d_2 (Conv2D)           (None, 56, 56, 32)        18464     \n",
            "                                                                 \n",
            " max_pooling2d_2 (MaxPooling  (None, 28, 28, 32)       0         \n",
            " 2D)                                                             \n",
            "                                                                 \n",
            " flatten (Flatten)           (None, 25088)             0         \n",
            "                                                                 \n",
            " dense (Dense)               (None, 64)                1605696   \n",
            "                                                                 \n",
            " dropout (Dropout)           (None, 64)                0         \n",
            "                                                                 \n",
            " dense_1 (Dense)             (None, 32)                2080      \n",
            "                                                                 \n",
            " dropout_1 (Dropout)         (None, 32)                0         \n",
            "                                                                 \n",
            " dense_2 (Dense)             (None, 2)                 66        \n",
            "                                                                 \n",
            "=================================================================\n",
            "Total params: 1,645,698\n",
            "Trainable params: 1,645,698\n",
            "Non-trainable params: 0\n",
            "_________________________________________________________________\n"
          ]
        }
      ],
      "source": [
        "model.summary()"
      ]
    },
    {
      "cell_type": "code",
      "execution_count": 14,
      "metadata": {
        "id": "Tz0rtleRivDQ"
      },
      "outputs": [],
      "source": [
        "model.compile(loss = 'categorical_crossentropy',\n",
        "              optimizer = 'adam',\n",
        "              metrics=[tf.keras.metrics.Precision(), tf.keras.metrics.Recall(), \"acc\"])"
      ]
    },
    {
      "cell_type": "code",
      "source": [
        "callbacks = [EarlyStopping(monitor='val_loss', patience=5, verbose=1, mode='min'),\n",
        "            ModelCheckpoint(filepath='mymodel.h5', monitor='val_loss', mode='min', save_best_only=True, save_weights_only=False, verbose=1)]"
      ],
      "metadata": {
        "id": "CCUAZNlytfWr"
      },
      "execution_count": 15,
      "outputs": []
    },
    {
      "cell_type": "code",
      "source": [
        "history = model.fit_generator(generator=train_generator,\n",
        "                              epochs=100,\n",
        "                              validation_data=test_generator,\n",
        "                              callbacks=callbacks,\n",
        "                              workers=4,\n",
        "                              steps_per_epoch=1633//32,\n",
        "                              validation_steps=204//32)"
      ],
      "metadata": {
        "colab": {
          "base_uri": "https://localhost:8080/"
        },
        "id": "TBDWNr0xthbT",
        "outputId": "105ec4a8-f80c-45bf-ad37-393d3fc82215"
      },
      "execution_count": 16,
      "outputs": [
        {
          "output_type": "stream",
          "name": "stdout",
          "text": [
            "Epoch 1/100\n",
            "51/51 [==============================] - ETA: 0s - loss: 0.6970 - precision: 0.5191 - recall: 0.5191 - acc: 0.5191\n",
            "Epoch 1: val_loss improved from inf to 0.69318, saving model to mymodel.h5\n",
            "51/51 [==============================] - 46s 680ms/step - loss: 0.6970 - precision: 0.5191 - recall: 0.5191 - acc: 0.5191 - val_loss: 0.6932 - val_precision: 0.4853 - val_recall: 0.4853 - val_acc: 0.4853\n",
            "Epoch 2/100\n",
            "51/51 [==============================] - ETA: 0s - loss: 0.6933 - precision: 0.5328 - recall: 0.5328 - acc: 0.5328\n",
            "Epoch 2: val_loss improved from 0.69318 to 0.69202, saving model to mymodel.h5\n",
            "51/51 [==============================] - 34s 657ms/step - loss: 0.6933 - precision: 0.5328 - recall: 0.5328 - acc: 0.5328 - val_loss: 0.6920 - val_precision: 0.5294 - val_recall: 0.5294 - val_acc: 0.5294\n",
            "Epoch 3/100\n",
            "51/51 [==============================] - ETA: 0s - loss: 0.6920 - precision: 0.5276 - recall: 0.5276 - acc: 0.5276\n",
            "Epoch 3: val_loss improved from 0.69202 to 0.69164, saving model to mymodel.h5\n",
            "51/51 [==============================] - 35s 671ms/step - loss: 0.6920 - precision: 0.5276 - recall: 0.5276 - acc: 0.5276 - val_loss: 0.6916 - val_precision: 0.5294 - val_recall: 0.5294 - val_acc: 0.5294\n",
            "Epoch 4/100\n",
            "50/51 [============================>.] - ETA: 0s - loss: 0.6917 - precision: 0.5335 - recall: 0.5335 - acc: 0.5335\n",
            "Epoch 4: val_loss improved from 0.69164 to 0.69112, saving model to mymodel.h5\n",
            "51/51 [==============================] - 35s 673ms/step - loss: 0.6916 - precision: 0.5334 - recall: 0.5334 - acc: 0.5334 - val_loss: 0.6911 - val_precision: 0.5294 - val_recall: 0.5294 - val_acc: 0.5294\n",
            "Epoch 5/100\n",
            "50/51 [============================>.] - ETA: 0s - loss: 0.6917 - precision: 0.5163 - recall: 0.5163 - acc: 0.5163\n",
            "Epoch 5: val_loss did not improve from 0.69112\n",
            "51/51 [==============================] - 34s 651ms/step - loss: 0.6918 - precision: 0.5159 - recall: 0.5159 - acc: 0.5159 - val_loss: 0.6913 - val_precision: 0.5294 - val_recall: 0.5294 - val_acc: 0.5294\n",
            "Epoch 6/100\n",
            "50/51 [============================>.] - ETA: 0s - loss: 0.6937 - precision: 0.5271 - recall: 0.5271 - acc: 0.5271\n",
            "Epoch 6: val_loss improved from 0.69112 to 0.69094, saving model to mymodel.h5\n",
            "51/51 [==============================] - 34s 654ms/step - loss: 0.6943 - precision: 0.5259 - recall: 0.5259 - acc: 0.5259 - val_loss: 0.6909 - val_precision: 0.5294 - val_recall: 0.5294 - val_acc: 0.5294\n",
            "Epoch 7/100\n",
            "51/51 [==============================] - ETA: 0s - loss: 0.6938 - precision: 0.5328 - recall: 0.5328 - acc: 0.5328\n",
            "Epoch 7: val_loss did not improve from 0.69094\n",
            "51/51 [==============================] - 35s 683ms/step - loss: 0.6938 - precision: 0.5328 - recall: 0.5328 - acc: 0.5328 - val_loss: 0.6938 - val_precision: 0.5147 - val_recall: 0.5147 - val_acc: 0.5147\n",
            "Epoch 8/100\n",
            "50/51 [============================>.] - ETA: 0s - loss: 0.6923 - precision: 0.5252 - recall: 0.5252 - acc: 0.5252\n",
            "Epoch 8: val_loss improved from 0.69094 to 0.69052, saving model to mymodel.h5\n",
            "51/51 [==============================] - 34s 660ms/step - loss: 0.6917 - precision: 0.5284 - recall: 0.5284 - acc: 0.5284 - val_loss: 0.6905 - val_precision: 0.5392 - val_recall: 0.5392 - val_acc: 0.5392\n",
            "Epoch 9/100\n",
            "50/51 [============================>.] - ETA: 0s - loss: 0.6892 - precision: 0.5386 - recall: 0.5386 - acc: 0.5386\n",
            "Epoch 9: val_loss did not improve from 0.69052\n",
            "51/51 [==============================] - 34s 662ms/step - loss: 0.6891 - precision: 0.5365 - recall: 0.5365 - acc: 0.5365 - val_loss: 0.6952 - val_precision: 0.5441 - val_recall: 0.5441 - val_acc: 0.5441\n",
            "Epoch 10/100\n",
            "50/51 [============================>.] - ETA: 0s - loss: 0.6919 - precision: 0.5322 - recall: 0.5322 - acc: 0.5322\n",
            "Epoch 10: val_loss improved from 0.69052 to 0.68710, saving model to mymodel.h5\n",
            "51/51 [==============================] - 34s 658ms/step - loss: 0.6923 - precision: 0.5340 - recall: 0.5340 - acc: 0.5340 - val_loss: 0.6871 - val_precision: 0.5343 - val_recall: 0.5343 - val_acc: 0.5343\n",
            "Epoch 11/100\n",
            "51/51 [==============================] - ETA: 0s - loss: 0.6871 - precision: 0.5322 - recall: 0.5322 - acc: 0.5322\n",
            "Epoch 11: val_loss did not improve from 0.68710\n",
            "51/51 [==============================] - 36s 692ms/step - loss: 0.6871 - precision: 0.5322 - recall: 0.5322 - acc: 0.5322 - val_loss: 0.6922 - val_precision: 0.5294 - val_recall: 0.5294 - val_acc: 0.5294\n",
            "Epoch 12/100\n",
            "51/51 [==============================] - ETA: 0s - loss: 0.6877 - precision: 0.5484 - recall: 0.5484 - acc: 0.5484\n",
            "Epoch 12: val_loss improved from 0.68710 to 0.68194, saving model to mymodel.h5\n",
            "51/51 [==============================] - 35s 669ms/step - loss: 0.6877 - precision: 0.5484 - recall: 0.5484 - acc: 0.5484 - val_loss: 0.6819 - val_precision: 0.5784 - val_recall: 0.5784 - val_acc: 0.5784\n",
            "Epoch 13/100\n",
            "51/51 [==============================] - ETA: 0s - loss: 0.6866 - precision: 0.5384 - recall: 0.5384 - acc: 0.5384\n",
            "Epoch 13: val_loss did not improve from 0.68194\n",
            "51/51 [==============================] - 34s 665ms/step - loss: 0.6866 - precision: 0.5384 - recall: 0.5384 - acc: 0.5384 - val_loss: 0.6896 - val_precision: 0.5490 - val_recall: 0.5490 - val_acc: 0.5490\n",
            "Epoch 14/100\n",
            "51/51 [==============================] - ETA: 0s - loss: 0.6841 - precision: 0.5484 - recall: 0.5484 - acc: 0.5484\n",
            "Epoch 14: val_loss did not improve from 0.68194\n",
            "51/51 [==============================] - 34s 661ms/step - loss: 0.6841 - precision: 0.5484 - recall: 0.5484 - acc: 0.5484 - val_loss: 0.6929 - val_precision: 0.5539 - val_recall: 0.5539 - val_acc: 0.5539\n",
            "Epoch 15/100\n",
            "50/51 [============================>.] - ETA: 0s - loss: 0.6844 - precision: 0.5417 - recall: 0.5417 - acc: 0.5417\n",
            "Epoch 15: val_loss did not improve from 0.68194\n",
            "51/51 [==============================] - 35s 675ms/step - loss: 0.6848 - precision: 0.5422 - recall: 0.5422 - acc: 0.5422 - val_loss: 0.6927 - val_precision: 0.5490 - val_recall: 0.5490 - val_acc: 0.5490\n",
            "Epoch 16/100\n",
            "51/51 [==============================] - ETA: 0s - loss: 0.6827 - precision: 0.5553 - recall: 0.5553 - acc: 0.5553\n",
            "Epoch 16: val_loss did not improve from 0.68194\n",
            "51/51 [==============================] - 34s 658ms/step - loss: 0.6827 - precision: 0.5553 - recall: 0.5553 - acc: 0.5553 - val_loss: 0.6907 - val_precision: 0.5490 - val_recall: 0.5490 - val_acc: 0.5490\n",
            "Epoch 17/100\n",
            "51/51 [==============================] - ETA: 0s - loss: 0.6803 - precision: 0.5684 - recall: 0.5684 - acc: 0.5684\n",
            "Epoch 17: val_loss did not improve from 0.68194\n",
            "51/51 [==============================] - 34s 656ms/step - loss: 0.6803 - precision: 0.5684 - recall: 0.5684 - acc: 0.5684 - val_loss: 0.6946 - val_precision: 0.4853 - val_recall: 0.4853 - val_acc: 0.4853\n",
            "Epoch 17: early stopping\n"
          ]
        }
      ]
    },
    {
      "cell_type": "code",
      "source": [
        "#Accuracy Grafiği\n",
        "\n",
        "plt.figure(figsize=(20,5))\n",
        "plt.subplot(1,2,1)\n",
        "plt.plot(history.history['acc'], label='Training Accuracy')\n",
        "plt.plot(history.history['val_acc'], label='Validation Accuracy')\n",
        "plt.legend(loc='lower right')\n",
        "plt.xlabel('Epoch', fontsize=16)\n",
        "plt.ylabel('Accuracy', fontsize=16)\n",
        "plt.ylim([min(plt.ylim()),1])\n",
        "plt.title('Training and Validation Accuracy', fontsize=16)\n",
        "\n",
        "#Loss grafiği\n",
        "plt.subplot(1,2,2)\n",
        "plt.plot(history.history['loss'], label='Training Loss')\n",
        "plt.plot(history.history['val_loss'], label='Validation Loss')\n",
        "plt.legend(loc='upper right')\n",
        "plt.xlabel('Epoch', fontsize=16)\n",
        "plt.ylabel('Loss', fontsize=16)\n",
        "plt.ylim([0, max(plt.ylim())])\n",
        "plt.title('Training and Validation Accuracy', fontsize=16)\n",
        "\n",
        "plt.show()"
      ],
      "metadata": {
        "id": "AAHiHwgwuBW_",
        "colab": {
          "base_uri": "https://localhost:8080/",
          "height": 420
        },
        "outputId": "312ac968-0643-429d-d7c4-b0f25b4525b4"
      },
      "execution_count": 17,
      "outputs": [
        {
          "output_type": "display_data",
          "data": {
            "text/plain": [
              "<Figure size 2000x500 with 2 Axes>"
            ],
            "image/png": "[encoded data removed]"
          },
          "metadata": {}
        }
      ]
    },
    {
      "cell_type": "code",
      "source": [
        "loss, precision, recall, acc = model.evaluate(test_generator, batch_size=32)"
      ],
      "metadata": {
        "colab": {
          "base_uri": "https://localhost:8080/"
        },
        "id": "E4BlYXJ3x56V",
        "outputId": "c9f3b463-fbcc-4a45-fee9-bc23a9b56742"
      },
      "execution_count": 18,
      "outputs": [
        {
          "output_type": "stream",
          "name": "stdout",
          "text": [
            "1/1 [==============================] - 2s 2s/step - loss: 0.6946 - precision: 0.4853 - recall: 0.4853 - acc: 0.4853\n"
          ]
        }
      ]
    },
    {
      "cell_type": "code",
      "source": [
        "print(\"\\nTest accuracy: %.1f%%\" % (100.0 * acc))\n",
        "print(\"\\nTest loss: %.1f%%\" % (100.0 * loss))\n",
        "print(\"\\nTest precision: %.1f%%\" % (100.0 * precision))\n",
        "print(\"\\nTest recall: %.1f%%\" % (100.0 * recall))"
      ],
      "metadata": {
        "colab": {
          "base_uri": "https://localhost:8080/"
        },
        "id": "AyHJQP3vyNBF",
        "outputId": "b3e8197c-b0c7-4a67-98c5-ae861a4ed61a"
      },
      "execution_count": 19,
      "outputs": [
        {
          "output_type": "stream",
          "name": "stdout",
          "text": [
            "\n",
            "Test accuracy: 48.5%\n",
            "\n",
            "Test loss: 69.5%\n",
            "\n",
            "Test precision: 48.5%\n",
            "\n",
            "Test recall: 48.5%\n"
          ]
        }
      ]
    },
    {
      "cell_type": "code",
      "source": [
        "#Clasification Report\n",
        "x_test, y_test = test_generator.next()\n",
        "\n",
        "y_pred = model.predict(x_test)\n",
        "\n",
        "y_pred = np.argmax(y_pred, axis=1)\n",
        "\n",
        "y_test = np.argmax(y_test, axis=1)"
      ],
      "metadata": {
        "colab": {
          "base_uri": "https://localhost:8080/"
        },
        "id": "EbOIUKfNySsJ",
        "outputId": "fab36d9d-b3dd-412f-a6ce-a56d5d97a1b7"
      },
      "execution_count": 20,
      "outputs": [
        {
          "output_type": "stream",
          "name": "stdout",
          "text": [
            "7/7 [==============================] - 0s 20ms/step\n"
          ]
        }
      ]
    },
    {
      "cell_type": "code",
      "source": [
        "y_pred"
      ],
      "metadata": {
        "colab": {
          "base_uri": "https://localhost:8080/"
        },
        "id": "IIvmFEYxyXT_",
        "outputId": "bb57f4e7-2137-455b-c329-8258f387b5c3"
      },
      "execution_count": 21,
      "outputs": [
        {
          "output_type": "execute_result",
          "data": {
            "text/plain": [
              "array([1, 1, 0, 1, 0, 1, 1, 1, 1, 0, 1, 1, 1, 1, 1, 1, 1, 1, 1, 1, 1, 1,\n",
              "       1, 1, 1, 1, 1, 0, 1, 1, 0, 1, 1, 1, 1, 1, 1, 1, 1, 1, 1, 1, 1, 1,\n",
              "       1, 1, 0, 1, 1, 1, 0, 1, 1, 1, 1, 0, 1, 0, 1, 1, 1, 1, 1, 1, 1, 0,\n",
              "       1, 1, 1, 1, 1, 1, 1, 0, 1, 1, 1, 1, 1, 1, 0, 1, 1, 1, 0, 1, 1, 1,\n",
              "       1, 1, 0, 1, 1, 1, 1, 1, 1, 1, 1, 0, 1, 1, 1, 1, 1, 1, 1, 1, 1, 1,\n",
              "       1, 1, 1, 1, 1, 0, 0, 1, 1, 0, 1, 1, 0, 1, 1, 1, 1, 1, 1, 1, 0, 1,\n",
              "       1, 1, 1, 1, 1, 1, 1, 0, 0, 0, 1, 1, 0, 1, 1, 1, 1, 0, 1, 1, 1, 0,\n",
              "       1, 1, 1, 1, 1, 0, 1, 1, 1, 0, 1, 1, 1, 0, 1, 1, 1, 1, 1, 1, 1, 1,\n",
              "       0, 1, 1, 0, 1, 1, 0, 1, 1, 1, 1, 0, 1, 1, 0, 1, 1, 0, 1, 0, 1, 1,\n",
              "       1, 1, 0, 1, 1, 1])"
            ]
          },
          "metadata": {},
          "execution_count": 21
        }
      ]
    },
    {
      "cell_type": "code",
      "source": [
        "target_names = list(waste_labels.keys())"
      ],
      "metadata": {
        "id": "CfioCKjlya15"
      },
      "execution_count": 22,
      "outputs": []
    },
    {
      "cell_type": "code",
      "source": [
        "from sklearn.metrics import classification_report"
      ],
      "metadata": {
        "id": "VmGb061SyszF"
      },
      "execution_count": 24,
      "outputs": []
    },
    {
      "cell_type": "code",
      "source": [
        "print(classification_report(y_test, y_pred, target_names=target_names))"
      ],
      "metadata": {
        "colab": {
          "base_uri": "https://localhost:8080/"
        },
        "id": "oBEDAoqhydef",
        "outputId": "76360da8-9f38-4a19-beea-da2ba4924926"
      },
      "execution_count": 25,
      "outputs": [
        {
          "output_type": "stream",
          "name": "stdout",
          "text": [
            "               precision    recall  f1-score   support\n",
            "\n",
            "training_real       0.38      0.15      0.21        96\n",
            "training_fake       0.51      0.79      0.62       108\n",
            "\n",
            "     accuracy                           0.49       204\n",
            "    macro avg       0.44      0.47      0.41       204\n",
            " weighted avg       0.45      0.49      0.43       204\n",
            "\n"
          ]
        }
      ]
    },
    {
      "cell_type": "code",
      "source": [
        "#Confusion Matrix\n",
        "\n",
        "cm = confusion_matrix(y_test, y_pred)\n",
        "\n",
        "def plot_confusion_matrix(cm, classes,\n",
        "                          normalize=False,\n",
        "                          title='Confusion matrix',\n",
        "                          cmap=plt.cm.Blues):\n",
        "  if normalize:\n",
        "    cm = cm.astype('float') / cm.sum(axis=1)[:, np.newaxis]\n",
        "\n",
        "  plt.figure(figsize=(8,6))\n",
        "  plt.imshow(cm, interpolation='nearest', cmap=cmap)\n",
        "  plt.title(title)\n",
        "  plt.colorbar()\n",
        "  tick_marks = np.arange(len(classes))\n",
        "  plt.xticks(tick_marks, classes, rotation=45)\n",
        "  plt.yticks(tick_marks, classes)\n",
        "  fmt = '.2f' if normalize else 'd'\n",
        "  thresh = cm.max() / 2.\n",
        "  for i, j in itertools.product(range(cm.shape[0]), range(cm.shape[1])):\n",
        "    plt.text(j, i, format(cm[i, j], fmt),\n",
        "             horizontalalignment=\"center\",\n",
        "             color=\"white\" if cm[i, j] > thresh else \"black\")\n",
        "  plt.tight_layout()\n",
        "  plt.ylabel('True label', fontweight=\"bold\")\n",
        "  plt.xlabel('Predicted label', fontweight=\"bold\")"
      ],
      "metadata": {
        "id": "mXkjU09LygDX"
      },
      "execution_count": 34,
      "outputs": []
    },
    {
      "cell_type": "code",
      "source": [
        "plot_confusion_matrix(cm, waste_labels.keys(),\n",
        "                      title='Confusion matrix',\n",
        "                      cmap=plt.cm.OrRd)"
      ],
      "metadata": {
        "colab": {
          "base_uri": "https://localhost:8080/",
          "height": 626
        },
        "id": "CrK2hbIEy5Ft",
        "outputId": "3b754a7d-fc7e-41e2-9fa4-d5ee24aaccd1"
      },
      "execution_count": 35,
      "outputs": [
        {
          "output_type": "display_data",
          "data": {
            "text/plain": [
              "<Figure size 800x600 with 2 Axes>"
            ],
            "image/png": "[encoded data removed]"
          },
          "metadata": {}
        }
      ]
    },
    {
      "cell_type": "code",
      "source": [
        "def model_testing(path):\n",
        "  img = image.load_img(path, target_size=(target_size))\n",
        "  img = image.img_to_array(img, dtype=np.uint8)\n",
        "  img = np.array(img) / 255.0\n",
        "  p = model.predict(img.reshape(1, 224, 224, 3))\n",
        "  predicted_class = np.argmax(p[0])\n",
        "\n",
        "  return img, p, predicted_class\n",
        "     "
      ],
      "metadata": {
        "id": "ixw1bi5-0IH6"
      },
      "execution_count": 36,
      "outputs": []
    },
    {
      "cell_type": "code",
      "source": [],
      "metadata": {
        "id": "muVe5sPN0V8P"
      },
      "execution_count": null,
      "outputs": []
    }
  ],
  "metadata": {
    "colab": {
      "provenance": [],
      "machine_shape": "hm",
      "gpuType": "V100",
      "authorship_tag": "ABX9TyNSoMkf641aQ6viAoj6OSzy",
      "include_colab_link": true
    },
    "kernelspec": {
      "display_name": "Python 3",
      "name": "python3"
    },
    "language_info": {
      "name": "python"
    },
    "accelerator": "GPU",
    "gpuClass": "standard"
  },
  "nbformat": 4,
  "nbformat_minor": 0
}